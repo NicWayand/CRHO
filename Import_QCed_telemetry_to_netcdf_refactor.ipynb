{
 "cells": [
  {
   "cell_type": "code",
   "execution_count": 1,
   "metadata": {},
   "outputs": [
    {
     "name": "stdout",
     "output_type": "stream",
     "text": [
      "MUST BE PYTHON 3 !!!!!!!!!!!!!!!!!!!!\n"
     ]
    }
   ],
   "source": [
    "print('MUST BE PYTHON 3 !!!!!!!!!!!!!!!!!!!!')"
   ]
  },
  {
   "cell_type": "code",
   "execution_count": 2,
   "metadata": {},
   "outputs": [],
   "source": [
    "\n",
    "\n",
    "# Import modules\n",
    "#import mpld3\n",
    "%matplotlib inline\n",
    "#mpld3.enable_notebook()\n",
    "import numpy as np\n",
    "import pandas as pd\n",
    "import matplotlib\n",
    "import matplotlib.pyplot as plt\n",
    "from datetime import datetime\n",
    "import xarray as xr\n",
    "from astropy.io import ascii\n",
    "import pytz\n",
    "# OS interaction\n",
    "import sys\n",
    "import os\n",
    "import glob"
   ]
  },
  {
   "cell_type": "code",
   "execution_count": 3,
   "metadata": {
    "collapsed": true
   },
   "outputs": [],
   "source": [
    "# http://stackoverflow.com/questions/38987/how-can-i-merge-two-python-dictionaries-in-a-single-expression\n",
    "def merge_two_dicts(x, y):\n",
    "    '''Given two dicts, merge them into a new dict as a shallow copy.'''\n",
    "    z = x.copy()\n",
    "    z.update(y)\n",
    "    return z"
   ]
  },
  {
   "cell_type": "code",
   "execution_count": 4,
   "metadata": {
    "collapsed": true
   },
   "outputs": [],
   "source": [
    "def RH_2_SPHM(RELHM, PRESS, TAIR):\n",
    "    # Taken from Martyn Clark, SUMMMA code.\n",
    "    #     IMPLICIT NONE\n",
    "\n",
    "    #     REAL(DP), INTENT(IN)         :: RELHM     ! Relative Humidity     (%)\n",
    "    #     REAL(DP), INTENT(IN)         :: PRESS     ! Pressure              (Pa)\n",
    "    #     REAL(DP), INTENT(IN)         :: TAIR      ! Air temp\n",
    "\n",
    "    #     REAL(DP)                     :: RELHM2SPHM ! Specific Humidity (g/g)\n",
    "\n",
    "    #     REAL(DP)                     :: PVP       ! Partial vapour pressure at T  (Pa)\n",
    "    #     REAL(DP)                     :: TDCEL     ! Dewpt in celcius      (C)\n",
    "    #     !REAL(DP)                     :: DUM       ! Intermediate\n",
    "\n",
    "    #     ! Units note :              Pa = N m-2 = kg m-1 s-2\n",
    "    SATVPFRZ=     610.8       # Saturation water vapour pressure at 273.16K (Pa)\n",
    "    TFREEZE = 273.15\n",
    "    W_RATIO =       0.622     # molecular weight ratio of water to dry air (-)\n",
    "\n",
    "    TDCEL = TAIR-TFREEZE\n",
    "    PVP = RELHM * SATVPFRZ * np.exp( (17.27*TDCEL)/(237.30 + TDCEL) ) # Partial Vapour Press (Pa)\n",
    "    RELHM2SPHM = (PVP * W_RATIO)/(PRESS - (1. - W_RATIO)*PVP)\n",
    "    return RELHM2SPHM"
   ]
  },
  {
   "cell_type": "code",
   "execution_count": 5,
   "metadata": {},
   "outputs": [],
   "source": [
    "# Directories\n",
    "# time_dir     = 'Fortress_Pre_telemetry_QC_data'\n",
    "# time_dir     = 'Fortress_2014_2016_QC_data'\n",
    "# time_dir     = 'Fortress_2016_PostNov2014Storm_QC_data'\n",
    "time_dir = 'Marmot Creek QC data_2005_16'\n",
    "\n",
    "\n",
    "main_dir     = os.path.normpath(r'C:\\Users\\new356\\Google Drive\\Nov2014 Data QC Completed Data')\n",
    "# MetaDataFile\n",
    "meta_data_file  = os.path.join(main_dir,'CRHO_Station_lat_long_elevation.txt')\n",
    "# Ascii input folder\n",
    "dir_in     = os.path.join(main_dir, time_dir, 'QC_Data_ASCII_slim')\n",
    "# netcdf output folder\n",
    "dir_out    = os.path.join(main_dir, time_dir, 'QC_Data_netcdf')\n",
    "# all data out\n",
    "cfileout   = os.path.join(dir_out,time_dir) + '.nc'"
   ]
  },
  {
   "cell_type": "code",
   "execution_count": null,
   "metadata": {},
   "outputs": [],
   "source": []
  },
  {
   "cell_type": "code",
   "execution_count": 6,
   "metadata": {
    "collapsed": true
   },
   "outputs": [],
   "source": [
    "# Define input format of ascii files\n",
    "input_format = 'CRHO_TELM'"
   ]
  },
  {
   "cell_type": "code",
   "execution_count": 7,
   "metadata": {},
   "outputs": [],
   "source": [
    "if input_format == 'CRHO_TELM':\n",
    "    # Ascii data format info\n",
    "    c_header = 4 # Header lines\n",
    "    c_column_line = 1 # line where column names start\n",
    "    c_delimiter = ','\n",
    "    # time zone variables\n",
    "    #tz_in = pytz.timezone('Etc/GMT-6')"
   ]
  },
  {
   "cell_type": "code",
   "execution_count": 8,
   "metadata": {},
   "outputs": [],
   "source": [
    "# Get file in info\n",
    "os.chdir(dir_in) # Move to input\n",
    "content = glob.glob('*.txt') # Get list of files\n",
    "num_files = len(content)"
   ]
  },
  {
   "cell_type": "code",
   "execution_count": 9,
   "metadata": {},
   "outputs": [],
   "source": [
    "# Read in metadata (all stations)\n",
    "metadata = pd.read_csv(meta_data_file,index_col='station')"
   ]
  },
  {
   "cell_type": "code",
   "execution_count": 10,
   "metadata": {},
   "outputs": [
    {
     "data": {
      "text/html": [
       "<div>\n",
       "<style scoped>\n",
       "    .dataframe tbody tr th:only-of-type {\n",
       "        vertical-align: middle;\n",
       "    }\n",
       "\n",
       "    .dataframe tbody tr th {\n",
       "        vertical-align: top;\n",
       "    }\n",
       "\n",
       "    .dataframe thead th {\n",
       "        text-align: right;\n",
       "    }\n",
       "</style>\n",
       "<table border=\"1\" class=\"dataframe\">\n",
       "  <thead>\n",
       "    <tr style=\"text-align: right;\">\n",
       "      <th></th>\n",
       "      <th>lat</th>\n",
       "      <th>long</th>\n",
       "      <th>elevation(m)</th>\n",
       "    </tr>\n",
       "    <tr>\n",
       "      <th>station</th>\n",
       "      <th></th>\n",
       "      <th></th>\n",
       "      <th></th>\n",
       "    </tr>\n",
       "  </thead>\n",
       "  <tbody>\n",
       "    <tr>\n",
       "      <th>BNS</th>\n",
       "      <td>50.820920</td>\n",
       "      <td>-115.213910</td>\n",
       "      <td>2099</td>\n",
       "    </tr>\n",
       "    <tr>\n",
       "      <th>PWL</th>\n",
       "      <td>50.825980</td>\n",
       "      <td>-115.198200</td>\n",
       "      <td>2100</td>\n",
       "    </tr>\n",
       "    <tr>\n",
       "      <th>FRS</th>\n",
       "      <td>50.838230</td>\n",
       "      <td>-115.215780</td>\n",
       "      <td>2330</td>\n",
       "    </tr>\n",
       "    <tr>\n",
       "      <th>CRN</th>\n",
       "      <td>50.821600</td>\n",
       "      <td>-115.206500</td>\n",
       "      <td>2205</td>\n",
       "    </tr>\n",
       "    <tr>\n",
       "      <th>BRP</th>\n",
       "      <td>50.760610</td>\n",
       "      <td>-115.367150</td>\n",
       "      <td>2260</td>\n",
       "    </tr>\n",
       "    <tr>\n",
       "      <th>FLG</th>\n",
       "      <td>50.830040</td>\n",
       "      <td>-115.228510</td>\n",
       "      <td>2565</td>\n",
       "    </tr>\n",
       "    <tr>\n",
       "      <th>PYT</th>\n",
       "      <td>51.685600</td>\n",
       "      <td>-116.544900</td>\n",
       "      <td>2237</td>\n",
       "    </tr>\n",
       "    <tr>\n",
       "      <th>BWH</th>\n",
       "      <td>51.635180</td>\n",
       "      <td>-116.490280</td>\n",
       "      <td>2421</td>\n",
       "    </tr>\n",
       "    <tr>\n",
       "      <th>CRG</th>\n",
       "      <td>50.821500</td>\n",
       "      <td>-115.206300</td>\n",
       "      <td>2211</td>\n",
       "    </tr>\n",
       "    <tr>\n",
       "      <th>FRG</th>\n",
       "      <td>50.836420</td>\n",
       "      <td>-115.220490</td>\n",
       "      <td>2327</td>\n",
       "    </tr>\n",
       "    <tr>\n",
       "      <th>SIB</th>\n",
       "      <td>51.055630</td>\n",
       "      <td>-114.869420</td>\n",
       "      <td>1490</td>\n",
       "    </tr>\n",
       "    <tr>\n",
       "      <th>HLN</th>\n",
       "      <td>51.693027</td>\n",
       "      <td>-116.420957</td>\n",
       "      <td>2535</td>\n",
       "    </tr>\n",
       "    <tr>\n",
       "      <th>CNT</th>\n",
       "      <td>50.957140</td>\n",
       "      <td>-115.193040</td>\n",
       "      <td>2470</td>\n",
       "    </tr>\n",
       "    <tr>\n",
       "      <th>FSR</th>\n",
       "      <td>50.957730</td>\n",
       "      <td>-115.204390</td>\n",
       "      <td>2325</td>\n",
       "    </tr>\n",
       "    <tr>\n",
       "      <th>VVW</th>\n",
       "      <td>50.971230</td>\n",
       "      <td>-115.172220</td>\n",
       "      <td>1956</td>\n",
       "    </tr>\n",
       "    <tr>\n",
       "      <th>UPC</th>\n",
       "      <td>50.956540</td>\n",
       "      <td>-115.175350</td>\n",
       "      <td>1845</td>\n",
       "    </tr>\n",
       "    <tr>\n",
       "      <th>UPF</th>\n",
       "      <td>50.956880</td>\n",
       "      <td>-115.176221</td>\n",
       "      <td>1848</td>\n",
       "    </tr>\n",
       "    <tr>\n",
       "      <th>LLF</th>\n",
       "      <td>50.946560</td>\n",
       "      <td>-115.146401</td>\n",
       "      <td>1492</td>\n",
       "    </tr>\n",
       "    <tr>\n",
       "      <th>HMW</th>\n",
       "      <td>50.944110</td>\n",
       "      <td>-115.138940</td>\n",
       "      <td>1492</td>\n",
       "    </tr>\n",
       "  </tbody>\n",
       "</table>\n",
       "</div>"
      ],
      "text/plain": [
       "               lat        long   elevation(m)\n",
       "station                                      \n",
       "BNS      50.820920 -115.213910           2099\n",
       "PWL      50.825980 -115.198200           2100\n",
       "FRS      50.838230 -115.215780           2330\n",
       "CRN      50.821600 -115.206500           2205\n",
       "BRP      50.760610 -115.367150           2260\n",
       "FLG      50.830040 -115.228510           2565\n",
       "PYT      51.685600 -116.544900           2237\n",
       "BWH      51.635180 -116.490280           2421\n",
       "CRG      50.821500 -115.206300           2211\n",
       "FRG      50.836420 -115.220490           2327\n",
       "SIB      51.055630 -114.869420           1490\n",
       "HLN      51.693027 -116.420957           2535\n",
       "CNT      50.957140 -115.193040           2470\n",
       "FSR      50.957730 -115.204390           2325\n",
       "VVW      50.971230 -115.172220           1956\n",
       "UPC      50.956540 -115.175350           1845\n",
       "UPF      50.956880 -115.176221           1848\n",
       "LLF      50.946560 -115.146401           1492\n",
       "HMW      50.944110 -115.138940           1492"
      ]
     },
     "execution_count": 10,
     "metadata": {},
     "output_type": "execute_result"
    }
   ],
   "source": [
    "metadata"
   ]
  },
  {
   "cell_type": "code",
   "execution_count": 11,
   "metadata": {},
   "outputs": [],
   "source": [
    "# Initalize stuff\n",
    "c_dict = {}\n",
    "stations_all=[]\n",
    "variables=[]\n",
    "units_all = {}\n",
    "time_index = {}"
   ]
  },
  {
   "cell_type": "code",
   "execution_count": 12,
   "metadata": {},
   "outputs": [
    {
     "name": "stdout",
     "output_type": "stream",
     "text": [
      "Processing CNT\n",
      "Processing FSR\n",
      "Processing HMW\n",
      "Processing LLF\n",
      "Processing UCT\n",
      "Processing UPC\n",
      "Processing UPF\n",
      "Processing VVW\n"
     ]
    }
   ],
   "source": [
    "# Read in each file\n",
    "for cfile in content:\n",
    "    \n",
    "    # Get current station name\n",
    "    csta_name = cfile[0:3] # Take the first three letter abbreviation as the name\n",
    "    print('Processing ' + csta_name)\n",
    "    stations_all.append(csta_name)\n",
    "    \n",
    "    # Import data to pandas dataframe\n",
    "    dat = ascii.read(cfile,header_start=c_column_line,data_start=c_header,delimiter=c_delimiter,exclude_names='N/A')\n",
    "    datain = pd.DataFrame(dat.as_array())\n",
    "    \n",
    "    # Alternate method that drops duplicate (second variables) (Not correct but works for now)\n",
    "    #print(\"Using temp fix to process dataframes with duplicate columns. DATA NOT CORRECT!!!!\")\n",
    "    #datain = pd.read_csv(content[4],header=c_column_line) #,mangle_dupe_cols=False)\n",
    "    #datain.drop(datain.index[:2], inplace=True)\n",
    "    #datain = datain[datain.columns.drop(datain.filter(regex='.1'))]\n",
    "    #datain.columns\n",
    "    \n",
    "    \n",
    "    # Replace -9999 with nan (recomended by netcdf)\n",
    "    datain.replace(-9999,np.NaN,inplace=True)\n",
    "    \n",
    "    # Make TIMESTAMP the index\n",
    "    datain['TIMESTAMP'] = datain['TIMESTAMP'].astype('datetime64[ns]')\n",
    "    datain = datain.set_index('TIMESTAMP')\n",
    "    \n",
    "\n",
    "    ## Rename funky station names to common MVF names\n",
    "    #datain.rename(columns=var_names, inplace=True)\n",
    "    \n",
    "    # Import header info \n",
    "    headerinfo = pd.read_csv(cfile,nrows=2,skiprows=1)\n",
    "    units = headerinfo.loc[0,:].tolist() # Grab first row of dataframe (units)\n",
    "    units = units[1:] # Remove first value which is the units of the timestamp\n",
    "    units_dic = dict(zip(datain.columns,units)) # Dictionary of variable:units for this stations\n",
    "    units_all = merge_two_dicts(units_all, units_dic) # Merge dictoinaries together (units_dic overwrites any units_all)\n",
    "    \n",
    "    # Loop through all variables for this station\n",
    "    c_variables = datain.columns\n",
    "    variables.extend(c_variables.values) # Store all variables for use latter\n",
    "    for c_var in c_variables:\n",
    "        c_dict[(csta_name,c_var)] = pd.DataFrame(datain[c_var])\n",
    "        c_dict[(csta_name,c_var)].columns = [c_var]\n",
    "        c_dict[(csta_name,c_var)].index  = datain.index\n",
    "        \n",
    "    # Save time index for each station (need to fill in missing variables later)\n",
    "    time_index[csta_name] = datain.index"
   ]
  },
  {
   "cell_type": "code",
   "execution_count": null,
   "metadata": {},
   "outputs": [],
   "source": [
    "\n"
   ]
  },
  {
   "cell_type": "code",
   "execution_count": 13,
   "metadata": {},
   "outputs": [],
   "source": [
    "# Drop any vars with 'drop' in them (unwanted variables)\n",
    "vars_new = [Cv2 for Cv2 in variables if 'drop' not in Cv2]"
   ]
  },
  {
   "cell_type": "code",
   "execution_count": 14,
   "metadata": {},
   "outputs": [
    {
     "data": {
      "text/plain": [
       "{'Air Moisture Content A',\n",
       " 'Air temperature A',\n",
       " 'Downward Solar Radiation',\n",
       " 'Downward Terrestrial Rad',\n",
       " 'Incremental Precipitation A',\n",
       " 'Incremental Precipitation B',\n",
       " 'Incremental Precipitation C',\n",
       " 'Scalar Wind Speed A',\n",
       " 'Scalar Wind Speed C',\n",
       " 'Snow Depth A',\n",
       " 'Snow Depth QC value',\n",
       " 'Soil Heat Flux  A',\n",
       " 'Soil Moisture A',\n",
       " 'Soil Temperature A',\n",
       " 'Soil Temperature B',\n",
       " 'Soil Temperature C',\n",
       " 'Total Pressure Adjusted to Sea-level',\n",
       " 'Total Pressure Unadjusted A',\n",
       " 'Upward Solar Radiation',\n",
       " 'Upward Terrestrial Rad',\n",
       " 'Wind Direction at A'}"
      ]
     },
     "execution_count": 14,
     "metadata": {},
     "output_type": "execute_result"
    }
   ],
   "source": [
    "# Get unique variables from list variables\n",
    "variables_uniq = set(vars_new)\n",
    "variables_uniq"
   ]
  },
  {
   "cell_type": "code",
   "execution_count": null,
   "metadata": {
    "collapsed": true
   },
   "outputs": [],
   "source": []
  },
  {
   "cell_type": "code",
   "execution_count": 15,
   "metadata": {},
   "outputs": [
    {
     "name": "stdout",
     "output_type": "stream",
     "text": [
      "Upward Solar Radiation\n",
      "Total Pressure Unadjusted A\n",
      "Scalar Wind Speed C\n",
      "Scalar Wind Speed A\n",
      "Snow Depth A\n",
      "Soil Heat Flux  A\n",
      "Upward Terrestrial Rad\n",
      "Incremental Precipitation B\n",
      "Soil Temperature C\n",
      "Soil Temperature B\n",
      "Snow Depth QC value\n",
      "Soil Moisture A\n",
      "Downward Terrestrial Rad\n",
      "Air Moisture Content A\n",
      "Incremental Precipitation A\n",
      "Wind Direction at A\n",
      "Incremental Precipitation C\n",
      "Soil Temperature A\n",
      "Downward Solar Radiation\n",
      "Total Pressure Adjusted to Sea-level\n",
      "Air temperature A\n"
     ]
    }
   ],
   "source": [
    "# Extract data for each variable from the dictionary and create a xray.Dataset\n",
    "\n",
    "ds_list = [] # Initalize list of xray Datasets (each a different variable)\n",
    "\n",
    "# For each unique variable in the dictionary\n",
    "for c_var in variables_uniq:\n",
    "    print(c_var)\n",
    "    all_vars={} # Initialize dictionary that only contains one variable for all stations\n",
    "    # For each station\n",
    "    for c_sta in stations_all:\n",
    "        # Test if this varible was measured at this station\n",
    "        if ((c_sta,c_var) in c_dict):\n",
    "            all_vars[c_sta] = c_dict[(c_sta,c_var)]\n",
    "        else: # Variable doesn't exists at this station so pad it with -9999 (needed to merge into one netcdf file)\n",
    "            index_csta = time_index[c_sta]\n",
    "            df_missing = pd.DataFrame(index=index_csta, columns=[c_var])\n",
    "            #df_missing = df_missing.fillna(-9999)\n",
    "            all_vars[c_sta] = df_missing\n",
    "\n",
    "    # Concatenate each variable by stations\n",
    "    c_obs_all = pd.concat(all_vars,axis=0,keys=stations_all)\n",
    "    #c_obs_all = pd.DataFrame(c_obs_all) # not needed\n",
    "    \n",
    "    # Convert to xray and add to list\n",
    "    ds = xr.Dataset.from_dataframe(c_obs_all)\n",
    "    # Add to list and rename variables\n",
    "    ds_list.append(ds.rename({'level_0':'station','TIMESTAMP':'time'}))  "
   ]
  },
  {
   "cell_type": "code",
   "execution_count": null,
   "metadata": {},
   "outputs": [],
   "source": []
  },
  {
   "cell_type": "code",
   "execution_count": 16,
   "metadata": {},
   "outputs": [
    {
     "data": {
      "text/plain": [
       "<xarray.Dataset>\n",
       "Dimensions:                               (station: 8, time: 412981)\n",
       "Coordinates:\n",
       "  * station                               (station) object 'CNT' 'FSR' 'HMW' ...\n",
       "  * time                                  (time) datetime64[ns] 2005-03-10T15:30:00 ...\n",
       "Data variables:\n",
       "    Upward Solar Radiation                (station, time) float64 nan nan ...\n",
       "    Total Pressure Unadjusted A           (station, time) float64 nan nan ...\n",
       "    Scalar Wind Speed C                   (station, time) float64 nan nan ...\n",
       "    Scalar Wind Speed A                   (station, time) float64 nan nan ...\n",
       "    Snow Depth A                          (station, time) float64 nan nan ...\n",
       "    Soil Heat Flux  A                     (station, time) float64 nan nan ...\n",
       "    Upward Terrestrial Rad                (station, time) float64 nan nan ...\n",
       "    Incremental Precipitation B           (station, time) float64 nan nan ...\n",
       "    Soil Temperature C                    (station, time) float64 nan nan ...\n",
       "    Soil Temperature B                    (station, time) float64 nan nan ...\n",
       "    Snow Depth QC value                   (station, time) object nan nan nan ...\n",
       "    Soil Moisture A                       (station, time) float64 nan nan ...\n",
       "    Downward Terrestrial Rad              (station, time) float64 nan nan ...\n",
       "    Air Moisture Content A                (station, time) float64 nan nan ...\n",
       "    Incremental Precipitation A           (station, time) float64 nan nan ...\n",
       "    Wind Direction at A                   (station, time) float64 nan nan ...\n",
       "    Incremental Precipitation C           (station, time) float64 nan nan ...\n",
       "    Soil Temperature A                    (station, time) float64 nan nan ...\n",
       "    Downward Solar Radiation              (station, time) float64 nan nan ...\n",
       "    Total Pressure Adjusted to Sea-level  (station, time) float64 nan nan ...\n",
       "    Air temperature A                     (station, time) float64 nan nan ..."
      ]
     },
     "execution_count": 16,
     "metadata": {},
     "output_type": "execute_result"
    }
   ],
   "source": [
    "# Combine all variable Datasets using xray.update()\n",
    "ds_all = xr.Dataset()\n",
    "[ds_all.update(c_ds) for c_ds in ds_list]\n",
    "ds_all"
   ]
  },
  {
   "cell_type": "code",
   "execution_count": 17,
   "metadata": {},
   "outputs": [],
   "source": [
    "# Add variable attributes (units), and fix variable names (remove spaces)\n",
    "for cvar in ds_all.data_vars:\n",
    "    # add units as attributes\n",
    "    ds_all.get(cvar).attrs['unit']   = units_all[cvar]\n",
    "    # Remove spaces in variable names\n",
    "    ds_all.rename({cvar:cvar.replace(\" \",\"\")},inplace=True)"
   ]
  },
  {
   "cell_type": "code",
   "execution_count": null,
   "metadata": {},
   "outputs": [],
   "source": []
  },
  {
   "cell_type": "code",
   "execution_count": null,
   "metadata": {},
   "outputs": [],
   "source": []
  },
  {
   "cell_type": "code",
   "execution_count": 18,
   "metadata": {},
   "outputs": [
    {
     "data": {
      "text/html": [
       "<div>\n",
       "<style scoped>\n",
       "    .dataframe tbody tr th:only-of-type {\n",
       "        vertical-align: middle;\n",
       "    }\n",
       "\n",
       "    .dataframe tbody tr th {\n",
       "        vertical-align: top;\n",
       "    }\n",
       "\n",
       "    .dataframe thead th {\n",
       "        text-align: right;\n",
       "    }\n",
       "</style>\n",
       "<table border=\"1\" class=\"dataframe\">\n",
       "  <thead>\n",
       "    <tr style=\"text-align: right;\">\n",
       "      <th></th>\n",
       "      <th>lat</th>\n",
       "      <th>long</th>\n",
       "      <th>elevation(m)</th>\n",
       "    </tr>\n",
       "    <tr>\n",
       "      <th>station</th>\n",
       "      <th></th>\n",
       "      <th></th>\n",
       "      <th></th>\n",
       "    </tr>\n",
       "  </thead>\n",
       "  <tbody>\n",
       "    <tr>\n",
       "      <th>BNS</th>\n",
       "      <td>50.820920</td>\n",
       "      <td>-115.213910</td>\n",
       "      <td>2099</td>\n",
       "    </tr>\n",
       "    <tr>\n",
       "      <th>PWL</th>\n",
       "      <td>50.825980</td>\n",
       "      <td>-115.198200</td>\n",
       "      <td>2100</td>\n",
       "    </tr>\n",
       "    <tr>\n",
       "      <th>FRS</th>\n",
       "      <td>50.838230</td>\n",
       "      <td>-115.215780</td>\n",
       "      <td>2330</td>\n",
       "    </tr>\n",
       "    <tr>\n",
       "      <th>CRN</th>\n",
       "      <td>50.821600</td>\n",
       "      <td>-115.206500</td>\n",
       "      <td>2205</td>\n",
       "    </tr>\n",
       "    <tr>\n",
       "      <th>BRP</th>\n",
       "      <td>50.760610</td>\n",
       "      <td>-115.367150</td>\n",
       "      <td>2260</td>\n",
       "    </tr>\n",
       "    <tr>\n",
       "      <th>FLG</th>\n",
       "      <td>50.830040</td>\n",
       "      <td>-115.228510</td>\n",
       "      <td>2565</td>\n",
       "    </tr>\n",
       "    <tr>\n",
       "      <th>PYT</th>\n",
       "      <td>51.685600</td>\n",
       "      <td>-116.544900</td>\n",
       "      <td>2237</td>\n",
       "    </tr>\n",
       "    <tr>\n",
       "      <th>BWH</th>\n",
       "      <td>51.635180</td>\n",
       "      <td>-116.490280</td>\n",
       "      <td>2421</td>\n",
       "    </tr>\n",
       "    <tr>\n",
       "      <th>CRG</th>\n",
       "      <td>50.821500</td>\n",
       "      <td>-115.206300</td>\n",
       "      <td>2211</td>\n",
       "    </tr>\n",
       "    <tr>\n",
       "      <th>FRG</th>\n",
       "      <td>50.836420</td>\n",
       "      <td>-115.220490</td>\n",
       "      <td>2327</td>\n",
       "    </tr>\n",
       "    <tr>\n",
       "      <th>SIB</th>\n",
       "      <td>51.055630</td>\n",
       "      <td>-114.869420</td>\n",
       "      <td>1490</td>\n",
       "    </tr>\n",
       "    <tr>\n",
       "      <th>HLN</th>\n",
       "      <td>51.693027</td>\n",
       "      <td>-116.420957</td>\n",
       "      <td>2535</td>\n",
       "    </tr>\n",
       "    <tr>\n",
       "      <th>CNT</th>\n",
       "      <td>50.957140</td>\n",
       "      <td>-115.193040</td>\n",
       "      <td>2470</td>\n",
       "    </tr>\n",
       "    <tr>\n",
       "      <th>FSR</th>\n",
       "      <td>50.957730</td>\n",
       "      <td>-115.204390</td>\n",
       "      <td>2325</td>\n",
       "    </tr>\n",
       "    <tr>\n",
       "      <th>VVW</th>\n",
       "      <td>50.971230</td>\n",
       "      <td>-115.172220</td>\n",
       "      <td>1956</td>\n",
       "    </tr>\n",
       "    <tr>\n",
       "      <th>UPC</th>\n",
       "      <td>50.956540</td>\n",
       "      <td>-115.175350</td>\n",
       "      <td>1845</td>\n",
       "    </tr>\n",
       "    <tr>\n",
       "      <th>UPF</th>\n",
       "      <td>50.956880</td>\n",
       "      <td>-115.176221</td>\n",
       "      <td>1848</td>\n",
       "    </tr>\n",
       "    <tr>\n",
       "      <th>LLF</th>\n",
       "      <td>50.946560</td>\n",
       "      <td>-115.146401</td>\n",
       "      <td>1492</td>\n",
       "    </tr>\n",
       "    <tr>\n",
       "      <th>HMW</th>\n",
       "      <td>50.944110</td>\n",
       "      <td>-115.138940</td>\n",
       "      <td>1492</td>\n",
       "    </tr>\n",
       "  </tbody>\n",
       "</table>\n",
       "</div>"
      ],
      "text/plain": [
       "               lat        long   elevation(m)\n",
       "station                                      \n",
       "BNS      50.820920 -115.213910           2099\n",
       "PWL      50.825980 -115.198200           2100\n",
       "FRS      50.838230 -115.215780           2330\n",
       "CRN      50.821600 -115.206500           2205\n",
       "BRP      50.760610 -115.367150           2260\n",
       "FLG      50.830040 -115.228510           2565\n",
       "PYT      51.685600 -116.544900           2237\n",
       "BWH      51.635180 -116.490280           2421\n",
       "CRG      50.821500 -115.206300           2211\n",
       "FRG      50.836420 -115.220490           2327\n",
       "SIB      51.055630 -114.869420           1490\n",
       "HLN      51.693027 -116.420957           2535\n",
       "CNT      50.957140 -115.193040           2470\n",
       "FSR      50.957730 -115.204390           2325\n",
       "VVW      50.971230 -115.172220           1956\n",
       "UPC      50.956540 -115.175350           1845\n",
       "UPF      50.956880 -115.176221           1848\n",
       "LLF      50.946560 -115.146401           1492\n",
       "HMW      50.944110 -115.138940           1492"
      ]
     },
     "execution_count": 18,
     "metadata": {},
     "output_type": "execute_result"
    }
   ],
   "source": [
    "metadata"
   ]
  },
  {
   "cell_type": "code",
   "execution_count": null,
   "metadata": {},
   "outputs": [],
   "source": []
  },
  {
   "cell_type": "code",
   "execution_count": null,
   "metadata": {},
   "outputs": [],
   "source": []
  },
  {
   "cell_type": "code",
   "execution_count": 19,
   "metadata": {},
   "outputs": [],
   "source": [
    "# Get stations we have from metadata\n",
    "A = metadata.index.tolist()\n",
    "B = ds_all.station.values.tolist()\n",
    "sta_missing = list(set(A) - set(B))\n",
    "metadata.drop(sta_missing,inplace=True)\n",
    "# Reindex so order of stations is same as ds_all\n",
    "metadata = metadata.reindex(index=B)"
   ]
  },
  {
   "cell_type": "code",
   "execution_count": null,
   "metadata": {},
   "outputs": [],
   "source": []
  },
  {
   "cell_type": "code",
   "execution_count": 20,
   "metadata": {},
   "outputs": [
    {
     "name": "stdout",
     "output_type": "stream",
     "text": [
      "['CNT', 'FSR', 'HMW', 'LLF', 'UCT', 'UPC', 'UPF', 'VVW']\n",
      "['CNT', 'FSR', 'HMW', 'LLF', 'UCT', 'UPC', 'UPF', 'VVW']\n"
     ]
    }
   ],
   "source": [
    "# need to make sure order of metadata is the same as ds_all.station\n",
    "print(ds_all.station.values.tolist())\n",
    "print(metadata.index.tolist())"
   ]
  },
  {
   "cell_type": "code",
   "execution_count": 21,
   "metadata": {},
   "outputs": [],
   "source": [
    "# Add meta data for each station\n",
    "ds_all = ds_all.merge({'Elevation': ('station',metadata[' elevation(m)'])})\n",
    "ds_all = ds_all.merge({'Lat': ('station',metadata[' lat'])})\n",
    "ds_all = ds_all.merge({'Lon': ('station',metadata[' long'])})"
   ]
  },
  {
   "cell_type": "code",
   "execution_count": null,
   "metadata": {},
   "outputs": [],
   "source": []
  },
  {
   "cell_type": "code",
   "execution_count": 22,
   "metadata": {
    "scrolled": true
   },
   "outputs": [
    {
     "data": {
      "text/plain": [
       "<xarray.Dataset>\n",
       "Dimensions:                           (station: 8, time: 412981)\n",
       "Coordinates:\n",
       "  * station                           (station) object 'CNT' 'FSR' 'HMW' ...\n",
       "  * time                              (time) datetime64[ns] 2005-03-10T15:30:00 ...\n",
       "    Elevation                         (station) float64 2.47e+03 2.325e+03 ...\n",
       "    Lat                               (station) float64 50.96 50.96 50.94 ...\n",
       "    Lon                               (station) float64 -115.2 -115.2 -115.1 ...\n",
       "Data variables:\n",
       "    UpwardSolarRadiation              (station, time) float64 nan nan nan ...\n",
       "    TotalPressureUnadjustedA          (station, time) float64 nan nan nan ...\n",
       "    ScalarWindSpeedC                  (station, time) float64 nan nan nan ...\n",
       "    ScalarWindSpeedA                  (station, time) float64 nan nan nan ...\n",
       "    SnowDepthA                        (station, time) float64 nan nan nan ...\n",
       "    SoilHeatFluxA                     (station, time) float64 nan nan nan ...\n",
       "    UpwardTerrestrialRad              (station, time) float64 nan nan nan ...\n",
       "    IncrementalPrecipitationB         (station, time) float64 nan nan nan ...\n",
       "    SoilTemperatureC                  (station, time) float64 nan nan nan ...\n",
       "    SoilTemperatureB                  (station, time) float64 nan nan nan ...\n",
       "    SnowDepthQCvalue                  (station, time) object nan nan nan nan ...\n",
       "    SoilMoistureA                     (station, time) float64 nan nan nan ...\n",
       "    DownwardTerrestrialRad            (station, time) float64 nan nan nan ...\n",
       "    AirMoistureContentA               (station, time) float64 nan nan nan ...\n",
       "    IncrementalPrecipitationA         (station, time) float64 nan nan nan ...\n",
       "    WindDirectionatA                  (station, time) float64 nan nan nan ...\n",
       "    IncrementalPrecipitationC         (station, time) float64 nan nan nan ...\n",
       "    SoilTemperatureA                  (station, time) float64 nan nan nan ...\n",
       "    DownwardSolarRadiation            (station, time) float64 nan nan nan ...\n",
       "    TotalPressureAdjustedtoSea-level  (station, time) float64 nan nan nan ...\n",
       "    AirtemperatureA                   (station, time) float64 nan nan nan ..."
      ]
     },
     "execution_count": 22,
     "metadata": {},
     "output_type": "execute_result"
    }
   ],
   "source": [
    "# Make meta data coordiates from variables\n",
    "ds_all.set_coords(['Elevation','Lat','Lon'], inplace=True)"
   ]
  },
  {
   "cell_type": "code",
   "execution_count": 23,
   "metadata": {},
   "outputs": [
    {
     "data": {
      "text/plain": [
       "<xarray.DataArray 'time' (time: 412981)>\n",
       "array(['2005-03-10T15:30:00.000000000', '2005-03-10T15:45:00.000000000',\n",
       "       '2005-03-10T16:00:00.000000000', ..., '2016-12-19T12:00:00.000000000',\n",
       "       '2016-12-19T12:15:00.000000000', '2016-12-19T12:30:00.000000000'], dtype='datetime64[ns]')\n",
       "Coordinates:\n",
       "  * time     (time) datetime64[ns] 2005-03-10T15:30:00 2005-03-10T15:45:00 ..."
      ]
     },
     "execution_count": 23,
     "metadata": {},
     "output_type": "execute_result"
    }
   ],
   "source": [
    "ds_all.time"
   ]
  },
  {
   "cell_type": "code",
   "execution_count": 24,
   "metadata": {
    "collapsed": true
   },
   "outputs": [],
   "source": [
    "## Convert RH to specific humidity (kg/kg)\n",
    "# Fill missing air pressure with mean of all stations (not great but ok for now)\n",
    "PRESS = ds_all['TotalPressureUnadjustedA']*100\n",
    "PRESS = PRESS.fillna(PRESS.mean())\n",
    "ds_all['SPH'] = RH_2_SPHM(ds_all['AirMoistureContentA'], PRESS , ds_all['AirtemperatureA']+273.15)  \n",
    "ds_all.get('SPH').attrs['unit'] = 'kg/kg'"
   ]
  },
  {
   "cell_type": "code",
   "execution_count": null,
   "metadata": {},
   "outputs": [],
   "source": []
  },
  {
   "cell_type": "code",
   "execution_count": 25,
   "metadata": {},
   "outputs": [],
   "source": [
    "# Export to netcdf\n",
    "ds_all.to_netcdf(cfileout,format='netcdf4') "
   ]
  },
  {
   "cell_type": "code",
   "execution_count": null,
   "metadata": {},
   "outputs": [],
   "source": []
  },
  {
   "cell_type": "code",
   "execution_count": null,
   "metadata": {},
   "outputs": [],
   "source": []
  },
  {
   "cell_type": "code",
   "execution_count": 26,
   "metadata": {},
   "outputs": [],
   "source": [
    "# # Trim to nov 2014 storm\n",
    "# ds_storm = ds_all.sel(time=pd.date_range(start=datetime(2014,11,25),end=datetime(2014,12,3),freq='15min'))\n",
    "# ds_storm.to_netcdf(cfileout_storm,format='netcdf4') "
   ]
  },
  {
   "cell_type": "code",
   "execution_count": 27,
   "metadata": {},
   "outputs": [],
   "source": [
    "# plt.plot(ds_all.ScalarWindSpeedA.T*1000)"
   ]
  },
  {
   "cell_type": "code",
   "execution_count": 28,
   "metadata": {
    "collapsed": true
   },
   "outputs": [],
   "source": [
    "# # Bad Marmot variables rename (redo)\n",
    "# var_names = {'Air Temperature_AVG':'Air temperature A',\n",
    "# 'Air Temperature_Avg':'AirtemperatureA',\n",
    "# 'Air Temperature Avg':'AirtemperatureA',\n",
    "# 'Relative Humidity corrected_AVG':'Air Moisture Content A',\n",
    "# 'Relative Humidity corrected_Avg':'Air Moisture Content A',\n",
    "# 'RMY Wind Speed_AVG':'Scalar Wind Speed A',\n",
    "# 'Wind Speed Avg':'Scalar Wind Speed A',\n",
    "# 'MetOne Wind Speed_AVG':'Scalar Wind Speed A',\n",
    "# 'RMY Wind Direction_AVG':'Wind Direction at A',\n",
    "# 'Wind Direction Avg':'Wind Direction at A',\n",
    "# 'MetOne Wind Direction_AVG':'Wind Direction at A',\n",
    "# 'Snow Depth_AVG':'Snow Depth A',\n",
    "# 'Snow Depth':'Snow Depth A',\n",
    "# 'SR50 Quality_AVG':'Snow Depth QC value',\n",
    "# 'Snow Depth Signal Quality':'Snow Depth QC value',\n",
    "# 'Incoming Solar Radiation':'Downward Solar Radiation',\n",
    "# 'Incoming Solar Radiation_AVG':'Downward Solar Radiation',\n",
    "# 'Outgoing Solar Radiation_AVG':'Upward Solar Radiation',\n",
    "# 'Outgoing Solar Radiation':'Upward Solar Radiation',\n",
    "# 'Corrected Incoming Longwave Radiation_AVG':'Downward Terrestrial Rad',\n",
    "# 'Corrected Outgoing Longwave Radiation_AVG':'Upward Terrestrial Rad',\n",
    "# 'Corrected Net Radiation_AVG':'Net Radiation',\n",
    "# 'IRTC Infrared Thermocouple Surface Temperature':'Surface Temperature A',\n",
    "# 'Rainfall_instantaneous':'Incremental Precipitation B',\n",
    "# 'Rainfall_Incremental':'Incremental Precipitation B',\n",
    "# 'Albedo_AVG':'Albedo',\n",
    "# 'VWC':'Soil Moisture A',\n",
    "# 'Soil Temperaure_5cm below surface_AVG':'Soil Temperature A',\n",
    "# 'Soil Temperaure_5cm below surface Avg':'Soil Temperature A',\n",
    "# 'Soil Heat Flux_AVG':'Soil Heat Flux  A',\n",
    "# 'Soil Temperaure_10cm below surface_AVG':'Soil Temperature B',\n",
    "# 'Soil Temperaure_15cm below surface Avg':'Soil Temperature B',\n",
    "# 'Soil Temperaure_15cm below surface_AVG':'Soil Temperature B',\n",
    "# 'Soil Temperaure_20cm below surface_AVG':'Soil Temperature C',\n",
    "# 'Soil Temperaure_25cm below surface_AVG':'Soil Temperature C',\n",
    "# 'Soil Temperaure_40cm below surface_AVG':'Soil Temperature D',\n",
    "# '3Cup Wind Speed_AVG':'Scalar Wind Speed B',\n",
    "# 'Accumulated All Type Precipitation_mm_AVG':'Incremental Precipitation A',\n",
    "# 'Barometric Pressure':'Total Pressure Unadjusted A',\n",
    "# 'RMY Wind Direction standard deviation':'drop1',\n",
    "# 'cnr4_Sensor Temperature_AVG':'drop2',\n",
    "# 'Wind Direction Standard Deviation':'drop3',\n",
    "# 'Wind Speed_Max':'drop4',\n",
    "# 'MetOne Wind Direction standard deviation':'drop5',\n",
    "# 'MetOne Sonic Temperature_AVG':'drop6'}"
   ]
  }
 ],
 "metadata": {
  "kernelspec": {
   "display_name": "Python 3",
   "language": "python",
   "name": "python3"
  },
  "language_info": {
   "codemirror_mode": {
    "name": "ipython",
    "version": 3
   },
   "file_extension": ".py",
   "mimetype": "text/x-python",
   "name": "python",
   "nbconvert_exporter": "python",
   "pygments_lexer": "ipython3",
   "version": "3.5.4"
  }
 },
 "nbformat": 4,
 "nbformat_minor": 1
}
