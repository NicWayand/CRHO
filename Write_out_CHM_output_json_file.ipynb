{
 "cells": [
  {
   "cell_type": "code",
   "execution_count": 1,
   "metadata": {
    "collapsed": true
   },
   "outputs": [],
   "source": [
    "# Write out CHM json output and forcing config files"
   ]
  },
  {
   "cell_type": "code",
   "execution_count": 2,
   "metadata": {
    "collapsed": true
   },
   "outputs": [],
   "source": [
    "import numpy as np\n",
    "import pandas as pd\n",
    "import os\n",
    "import json\n",
    "import xarray as xr"
   ]
  },
  {
   "cell_type": "markdown",
   "metadata": {},
   "source": [
    "## OUTPUT"
   ]
  },
  {
   "cell_type": "code",
   "execution_count": null,
   "metadata": {
    "collapsed": true
   },
   "outputs": [],
   "source": []
  },
  {
   "cell_type": "code",
   "execution_count": null,
   "metadata": {},
   "outputs": [],
   "source": []
  },
  {
   "cell_type": "code",
   "execution_count": 3,
   "metadata": {},
   "outputs": [],
   "source": [
    "# Load in merged data\n",
    "# netcdf_file = r'F:\\Work\\e\\Data\\Obs\\Canada_Project_Sites\\CSAS_data\\QC\\Hourly_QC.nc'\n",
    "# ds_csas = xr.open_dataset(netcdf_file)\n",
    "# CRHO_file = r'C:\\Users\\new356\\Google Drive\\Nov2014 Data QC Completed Data\\Fortress_2014_2016_QC_data\\QC_Data_netcdf\\CRHO.nc'\n",
    "# ds_crho_all = xr.open_dataset(CRHO_file)\n",
    "ds_all = xr.open_dataset(r'F:\\Work\\e\\Data\\Obs\\Canada_Project_Sites\\CSAS_data\\QC\\Hourly_QC.nc')\n",
    "# ds_all = ds_all.AirtemperatureA # subset to save memory (just want metadata)\n",
    "# Courses points\n",
    "EC_snow_course_in = os.path.normpath(r'F:\\Work\\e\\Data\\Obs\\Canada_Project_Sites\\CSAS_data\\EC_Snow_Courses\\netcdf\\EC_Snow_Courses.nc')\n",
    "ds_SC = xr.open_dataset(EC_snow_course_in)\n",
    "# ds_SC = ds_SC.SWE_point\n",
    "# Output_config_file = os.path.join(r'C:\\Users\\new356\\Model_Output\\config','CRHO_output_sta_ALL.json')\n",
    "Output_config_file = os.path.join(r'C:\\Users\\new356\\Model_Output\\config','CSAS_output.json')"
   ]
  },
  {
   "cell_type": "code",
   "execution_count": null,
   "metadata": {},
   "outputs": [],
   "source": []
  },
  {
   "cell_type": "code",
   "execution_count": 4,
   "metadata": {
    "collapsed": true
   },
   "outputs": [],
   "source": [
    "ds_all = ds_all[['Lat','Lon','Elevation']]\n",
    "ds_SC = ds_SC[['Lat','Lon','Elevation']]"
   ]
  },
  {
   "cell_type": "code",
   "execution_count": 5,
   "metadata": {},
   "outputs": [
    {
     "data": {
      "text/plain": [
       "<xarray.Dataset>\n",
       "Dimensions:       (staID: 261)\n",
       "Coordinates:\n",
       "    Lat           (staID) float64 49.28 49.42 49.8 49.36 50.09 49.67 49.61 ...\n",
       "    Lon           (staID) float64 -114.4 -114.1 -114.5 -114.5 -114.6 -114.5 ...\n",
       "    Elevation     (staID) float64 1.52e+03 1.393e+03 1.676e+03 1.97e+03 ...\n",
       "    station_name  (staID) object 'Westcastle II' ...\n",
       "    network       (staID) object 'ABE_AGG_HIST' 'ABE_AGG_HIST' ...\n",
       "  * staID         (staID) object '05AA801' '05AA804' '05AA808' '05AA809' ...\n",
       "Data variables:\n",
       "    *empty*"
      ]
     },
     "execution_count": 5,
     "metadata": {},
     "output_type": "execute_result"
    }
   ],
   "source": [
    "ds_all"
   ]
  },
  {
   "cell_type": "code",
   "execution_count": 6,
   "metadata": {},
   "outputs": [],
   "source": [
    "ds = xr.concat([ds_all, ds_SC], dim='staID')"
   ]
  },
  {
   "cell_type": "code",
   "execution_count": 7,
   "metadata": {},
   "outputs": [
    {
     "data": {
      "text/plain": [
       "<xarray.Dataset>\n",
       "Dimensions:       (staID: 283)\n",
       "Coordinates:\n",
       "    Lat           (staID) float64 49.28 49.42 49.8 49.36 50.09 49.67 49.61 ...\n",
       "    Lon           (staID) float64 -114.4 -114.1 -114.5 -114.5 -114.6 -114.5 ...\n",
       "    Elevation     (staID) float64 1.52e+03 1.393e+03 1.676e+03 1.97e+03 ...\n",
       "    station_name  (staID) object 'Westcastle II' ...\n",
       "    network       (staID) object 'ABE_AGG_HIST' 'ABE_AGG_HIST' ...\n",
       "  * staID         (staID) object '05AA801' '05AA804' '05AA808' '05AA809' ...\n",
       "Data variables:\n",
       "    *empty*"
      ]
     },
     "execution_count": 7,
     "metadata": {},
     "output_type": "execute_result"
    }
   ],
   "source": [
    "ds"
   ]
  },
  {
   "cell_type": "code",
   "execution_count": 8,
   "metadata": {},
   "outputs": [],
   "source": [
    "# Define the modLandCover for CHM\n",
    "# Assume all stations are in clearings (1), unless we assing forest(0) or gap(2) here\n",
    "modLandCover = pd.Series(np.ones(ds.staID.size), index=ds.staID.values)\n",
    "forest_0_staID = ['LLF', 'UPF']\n",
    "gap_2_staID    = []\n",
    "for csta in forest_0_staID:\n",
    "    modLandCover.loc[csta] = 0\n",
    "for csta in gap_2_staID:\n",
    "    modLandCover.loc[csta] = 2   \n",
    "ds.coords['modLandCover'] = xr.DataArray.from_series(modLandCover).rename({'index':'staID'}).astype(int)"
   ]
  },
  {
   "cell_type": "code",
   "execution_count": null,
   "metadata": {},
   "outputs": [],
   "source": []
  },
  {
   "cell_type": "code",
   "execution_count": null,
   "metadata": {},
   "outputs": [],
   "source": []
  },
  {
   "cell_type": "code",
   "execution_count": null,
   "metadata": {},
   "outputs": [],
   "source": []
  },
  {
   "cell_type": "code",
   "execution_count": null,
   "metadata": {},
   "outputs": [],
   "source": []
  },
  {
   "cell_type": "code",
   "execution_count": null,
   "metadata": {},
   "outputs": [],
   "source": []
  },
  {
   "cell_type": "code",
   "execution_count": 9,
   "metadata": {},
   "outputs": [],
   "source": [
    "# ds = xr.concat([ds_crho, ds_csas], dim='staID')\n",
    "# ds"
   ]
  },
  {
   "cell_type": "code",
   "execution_count": 10,
   "metadata": {},
   "outputs": [
    {
     "name": "stdout",
     "output_type": "stream",
     "text": [
      "Have some missing metadata for BC stations, Need to fill in. BC hydro still doesn't have the data....lame\n"
     ]
    },
    {
     "data": {
      "text/plain": [
       "<xarray.Dataset>\n",
       "Dimensions:       (staID: 275)\n",
       "Coordinates:\n",
       "    Lat           (staID) float64 49.28 49.42 49.8 49.36 50.09 49.67 49.61 ...\n",
       "    Lon           (staID) float64 -114.4 -114.1 -114.5 -114.5 -114.6 -114.5 ...\n",
       "    Elevation     (staID) float64 1.52e+03 1.393e+03 1.676e+03 1.97e+03 ...\n",
       "    station_name  (staID) object 'Westcastle II' ...\n",
       "    network       (staID) object 'ABE_AGG_HIST' 'ABE_AGG_HIST' ...\n",
       "  * staID         (staID) object '05AA801' '05AA804' '05AA808' '05AA809' ...\n",
       "    modLandCover  (staID) int32 1 1 1 1 1 1 1 1 1 1 1 1 1 1 1 1 1 1 1 1 1 1 ...\n",
       "Data variables:\n",
       "    *empty*"
      ]
     },
     "execution_count": 10,
     "metadata": {},
     "output_type": "execute_result"
    }
   ],
   "source": [
    "# Have some missing metadata for Bc stations, Need to fix\n",
    "print(\"Have some missing metadata for BC stations, Need to fill in. BC hydro still doesn't have the data....lame\")\n",
    "ds = ds.where(ds.Lat.notnull(), drop=True)\n",
    "ds"
   ]
  },
  {
   "cell_type": "code",
   "execution_count": 11,
   "metadata": {},
   "outputs": [
    {
     "data": {
      "text/plain": [
       "<xarray.DataArray 'staID' (staID: 63)>\n",
       "array(['05BA813', '05BA815', '05BB803', '05BD801', '05BF825', '05BG801',\n",
       "       '05BG802', '05BG803', '05BH803', '05BJ805', '05BJ806', '05CA805',\n",
       "       '05CA808', '05CA809', '05CA810', '05CA811', '05CA813', '2A32P', '2C14P',\n",
       "       'BNS', 'BRP', 'BWH', 'CNT', 'CRG', 'CRN', 'FIRES-B3', 'FIRES-B4',\n",
       "       'FIRES-B5', 'FIRES-B8', 'FLG', 'FRG', 'FRS', 'FSR', 'HLN', 'HMW', 'LLF',\n",
       "       'MSC-001', 'MSC-005', 'MSC-028', 'PWL', 'PYT', 'SIB', 'UPC', 'UPF',\n",
       "       'VVW', '05BA801', '05BA802', '05BA806', '05BA808', '05BA810', '05BA812',\n",
       "       '05BA813', '05BA814', '05BC801', '05BD801', '05BF821', '05CA806',\n",
       "       '05CA807', '2A03A', '2A07', '2C05', '2C14', '2C15'], dtype=object)\n",
       "Coordinates:\n",
       "    Lat           (staID) float64 51.71 51.46 51.08 51.45 50.79 51.32 51.29 ...\n",
       "    Lon           (staID) float64 -116.5 -116.1 -115.8 -115.8 -115.1 -115.0 ...\n",
       "    Elevation     (staID) float64 2.031e+03 2.24e+03 2.23e+03 2.18e+03 ...\n",
       "    station_name  (staID) object 'Bow Summit -AEP' 'Pika Run' ...\n",
       "    network       (staID) object 'ABE_AGG_HIST' 'ABE_AGG_HIST' ...\n",
       "  * staID         (staID) object '05BA813' '05BA815' '05BB803' '05BD801' ...\n",
       "    modLandCover  (staID) int32 1 1 1 1 1 1 1 1 1 1 1 1 1 1 1 1 1 1 1 1 1 1 ..."
      ]
     },
     "execution_count": 11,
     "metadata": {},
     "output_type": "execute_result"
    }
   ],
   "source": [
    "# Provide lat long boundary to filter stations\n",
    "lat_r = [50.66, 51.7933333333]\n",
    "lon_r = [-116.645, -114.769166667]\n",
    "ds = ds.where( (ds.Lat>=lat_r[0]) & (ds.Lat<=lat_r[1]) & (ds.Lon>=lon_r[0]) & (ds.Lon<=lon_r[1]), drop=True)\n",
    "ds.staID"
   ]
  },
  {
   "cell_type": "code",
   "execution_count": 24,
   "metadata": {},
   "outputs": [
    {
     "data": {
      "text/plain": [
       "array(['05BA801', '05BA802', '05BA806', '05BA808', '05BA810', '05BA812',\n",
       "       '05BA813', '05BA813', '05BA814', '05BA815', '05BB803', '05BC801',\n",
       "       '05BD801', '05BD801', '05BF821', '05BF825', '05BG801', '05BG802',\n",
       "       '05BG803', '05BH803', '05BJ805', '05BJ806', '05CA805', '05CA806',\n",
       "       '05CA807', '05CA808', '05CA809', '05CA810', '05CA811', '05CA813',\n",
       "       '2A03A', '2A07', '2A32P', '2C05', '2C14', '2C14P', '2C15', 'BNS',\n",
       "       'BRP', 'BWH', 'CNT', 'CRG', 'CRN', 'FIRES-B3', 'FIRES-B4',\n",
       "       'FIRES-B5', 'FIRES-B8', 'FLG', 'FRG', 'FRS', 'FSR', 'HLN', 'HMW',\n",
       "       'LLF', 'MSC-001', 'MSC-005', 'MSC-028', 'PWL', 'PYT', 'SIB', 'UPC',\n",
       "       'UPF', 'VVW'], dtype=object)"
      ]
     },
     "execution_count": 24,
     "metadata": {},
     "output_type": "execute_result"
    }
   ],
   "source": [
    "np.sort(ds.staID.values)"
   ]
  },
  {
   "cell_type": "code",
   "execution_count": 12,
   "metadata": {},
   "outputs": [
    {
     "data": {
      "text/plain": [
       "[]"
      ]
     },
     "execution_count": 12,
     "metadata": {},
     "output_type": "execute_result"
    }
   ],
   "source": [
    "# Find stations missing Elevation data (or is zero (wrong))\n",
    "X = ds.Elevation.where(ds.Elevation.isnull(), drop=True)\n",
    "list(zip(X.station_name.values,X.staID.values))"
   ]
  },
  {
   "cell_type": "code",
   "execution_count": 13,
   "metadata": {
    "collapsed": true
   },
   "outputs": [],
   "source": [
    "# \"CanadianRidge\":\n",
    "#     {\n",
    "#     \"file\":\"CRG_out.txt\",\n",
    "#    \"longitude\":  -115.206041,\n",
    "#    \"latitude\": 50.821573,\n",
    "#    \"type\": \"timeseries\"\n",
    "#     },"
   ]
  },
  {
   "cell_type": "code",
   "execution_count": 15,
   "metadata": {},
   "outputs": [
    {
     "data": {
      "text/plain": [
       "array([-116.47875, -116.47875])"
      ]
     },
     "execution_count": 15,
     "metadata": {},
     "output_type": "execute_result"
    }
   ],
   "source": []
  },
  {
   "cell_type": "code",
   "execution_count": 30,
   "metadata": {},
   "outputs": [
    {
     "data": {
      "text/plain": [
       "2"
      ]
     },
     "execution_count": 30,
     "metadata": {},
     "output_type": "execute_result"
    }
   ],
   "source": [
    "c_ds = ds.sel(staID='05BA813')\n"
   ]
  },
  {
   "cell_type": "code",
   "execution_count": 34,
   "metadata": {},
   "outputs": [
    {
     "name": "stdout",
     "output_type": "stream",
     "text": [
      "found duplicate staID: 05BA813  Using first one.\n",
      "found duplicate staID: 05BD801  Using first one.\n"
     ]
    }
   ],
   "source": [
    "# Loop through stations and make json format\n",
    "meta = {}\n",
    "for csta in list(set(ds.staID.values)):\n",
    "    c_ds = ds.sel(staID=csta)\n",
    "    # check for duplicates\n",
    "    if c_ds.Lat.values.size>1: # We found a duplicate\n",
    "        c_ds = c_ds.isel(staID=0) # take the first one\n",
    "        print(\"found duplicate staID:\",csta,\" Using first one.\")\n",
    "    meta[csta] = {'file':csta+'_out.txt',\n",
    "    \"longitude\": c_ds.Lon.values.item(),\n",
    "    \"latitude\":  c_ds.Lat.values.item(),\n",
    "    \"elevation\": c_ds.Elevation.values.item(),\n",
    "    \"type\": \"timeseries\",\n",
    "    \"modLandCover\": c_ds.modLandCover.values.item(),\n",
    "    }\n"
   ]
  },
  {
   "cell_type": "code",
   "execution_count": 38,
   "metadata": {},
   "outputs": [
    {
     "name": "stdout",
     "output_type": "stream",
     "text": [
      "Found  61  stations.\n"
     ]
    }
   ],
   "source": [
    "print(\"Found \",len(meta),\" stations.\")"
   ]
  },
  {
   "cell_type": "code",
   "execution_count": 35,
   "metadata": {},
   "outputs": [
    {
     "data": {
      "text/plain": [
       "{'05BA801': {'elevation': 1580.0,\n",
       "  'file': '05BA801_out.txt',\n",
       "  'latitude': 51.416667,\n",
       "  'longitude': -116.183333,\n",
       "  'modLandCover': 1,\n",
       "  'type': 'timeseries'},\n",
       " '05BA802': {'elevation': 1615.0,\n",
       "  'file': '05BA802_out.txt',\n",
       "  'latitude': 51.433333,\n",
       "  'longitude': -116.166667,\n",
       "  'modLandCover': 1,\n",
       "  'type': 'timeseries'},\n",
       " '05BA806': {'elevation': 2030.0,\n",
       "  'file': '05BA806_out.txt',\n",
       "  'latitude': 51.416667,\n",
       "  'longitude': -116.233333,\n",
       "  'modLandCover': 1,\n",
       "  'type': 'timeseries'},\n",
       " '05BA808': {'elevation': 1740.0,\n",
       "  'file': '05BA808_out.txt',\n",
       "  'latitude': 51.416667,\n",
       "  'longitude': -116.216667,\n",
       "  'modLandCover': 1,\n",
       "  'type': 'timeseries'},\n",
       " '05BA810': {'elevation': 2190.0,\n",
       "  'file': '05BA810_out.txt',\n",
       "  'latitude': 51.466667,\n",
       "  'longitude': -116.1,\n",
       "  'modLandCover': 1,\n",
       "  'type': 'timeseries'},\n",
       " '05BA812': {'elevation': 2230.0,\n",
       "  'file': '05BA812_out.txt',\n",
       "  'latitude': 51.316667,\n",
       "  'longitude': -116.216667,\n",
       "  'modLandCover': 1,\n",
       "  'type': 'timeseries'},\n",
       " '05BA813': {'elevation': 2031.0,\n",
       "  'file': '05BA813_out.txt',\n",
       "  'latitude': 51.709,\n",
       "  'longitude': -116.47875,\n",
       "  'modLandCover': 1,\n",
       "  'type': 'timeseries'},\n",
       " '05BA814': {'elevation': 2380.0,\n",
       "  'file': '05BA814_out.txt',\n",
       "  'latitude': 51.683333,\n",
       "  'longitude': -116.383333,\n",
       "  'modLandCover': 1,\n",
       "  'type': 'timeseries'},\n",
       " '05BA815': {'elevation': 2240.0,\n",
       "  'file': '05BA815_out.txt',\n",
       "  'latitude': 51.462944,\n",
       "  'longitude': -116.117833,\n",
       "  'modLandCover': 1,\n",
       "  'type': 'timeseries'},\n",
       " '05BB803': {'elevation': 2230.0,\n",
       "  'file': '05BB803_out.txt',\n",
       "  'latitude': 51.083333,\n",
       "  'longitude': -115.783333,\n",
       "  'modLandCover': 1,\n",
       "  'type': 'timeseries'},\n",
       " '05BC801': {'elevation': 2025.0,\n",
       "  'file': '05BC801_out.txt',\n",
       "  'latitude': 50.85,\n",
       "  'longitude': -115.366667,\n",
       "  'modLandCover': 1,\n",
       "  'type': 'timeseries'},\n",
       " '05BD801': {'elevation': 2180.0,\n",
       "  'file': '05BD801_out.txt',\n",
       "  'latitude': 51.45,\n",
       "  'longitude': -115.75,\n",
       "  'modLandCover': 1,\n",
       "  'type': 'timeseries'},\n",
       " '05BF821': {'elevation': 1910.0,\n",
       "  'file': '05BF821_out.txt',\n",
       "  'latitude': 50.783333,\n",
       "  'longitude': -115.316667,\n",
       "  'modLandCover': 1,\n",
       "  'type': 'timeseries'},\n",
       " '05BF825': {'elevation': 2160.0,\n",
       "  'file': '05BF825_out.txt',\n",
       "  'latitude': 50.792167,\n",
       "  'longitude': -115.052222,\n",
       "  'modLandCover': 1,\n",
       "  'type': 'timeseries'},\n",
       " '05BG801': {'elevation': 1476.0,\n",
       "  'file': '05BG801_out.txt',\n",
       "  'latitude': 51.323389,\n",
       "  'longitude': -114.95975,\n",
       "  'modLandCover': 1,\n",
       "  'type': 'timeseries'},\n",
       " '05BG802': {'elevation': 1622.0,\n",
       "  'file': '05BG802_out.txt',\n",
       "  'latitude': 51.290139,\n",
       "  'longitude': -115.139528,\n",
       "  'modLandCover': 1,\n",
       "  'type': 'timeseries'},\n",
       " '05BG803': {'elevation': 1680.0,\n",
       "  'file': '05BG803_out.txt',\n",
       "  'latitude': 51.2125,\n",
       "  'longitude': -115.171944,\n",
       "  'modLandCover': 1,\n",
       "  'type': 'timeseries'},\n",
       " '05BH803': {'elevation': 1675.0,\n",
       "  'file': '05BH803_out.txt',\n",
       "  'latitude': 51.001306,\n",
       "  'longitude': -114.936556,\n",
       "  'modLandCover': 1,\n",
       "  'type': 'timeseries'},\n",
       " '05BJ805': {'elevation': 2120.0,\n",
       "  'file': '05BJ805_out.txt',\n",
       "  'latitude': 50.822222,\n",
       "  'longitude': -114.988889,\n",
       "  'modLandCover': 1,\n",
       "  'type': 'timeseries'},\n",
       " '05BJ806': {'elevation': 1798.0,\n",
       "  'file': '05BJ806_out.txt',\n",
       "  'latitude': 50.897417,\n",
       "  'longitude': -114.910944,\n",
       "  'modLandCover': 1,\n",
       "  'type': 'timeseries'},\n",
       " '05CA805': {'elevation': 2040.0,\n",
       "  'file': '05CA805_out.txt',\n",
       "  'latitude': 51.540556,\n",
       "  'longitude': -116.056389,\n",
       "  'modLandCover': 1,\n",
       "  'type': 'timeseries'},\n",
       " '05CA806': {'elevation': 2130.0,\n",
       "  'file': '05CA806_out.txt',\n",
       "  'latitude': 51.683333,\n",
       "  'longitude': -115.983333,\n",
       "  'modLandCover': 1,\n",
       "  'type': 'timeseries'},\n",
       " '05CA807': {'elevation': 2150.0,\n",
       "  'file': '05CA807_out.txt',\n",
       "  'latitude': 51.633333,\n",
       "  'longitude': -115.75,\n",
       "  'modLandCover': 1,\n",
       "  'type': 'timeseries'},\n",
       " '05CA808': {'elevation': 2020.0,\n",
       "  'file': '05CA808_out.txt',\n",
       "  'latitude': 51.666361,\n",
       "  'longitude': -115.501944,\n",
       "  'modLandCover': 1,\n",
       "  'type': 'timeseries'},\n",
       " '05CA809': {'elevation': 1554.0,\n",
       "  'file': '05CA809_out.txt',\n",
       "  'latitude': 51.537361,\n",
       "  'longitude': -115.101472,\n",
       "  'modLandCover': 1,\n",
       "  'type': 'timeseries'},\n",
       " '05CA810': {'elevation': 1460.0,\n",
       "  'file': '05CA810_out.txt',\n",
       "  'latitude': 51.770556,\n",
       "  'longitude': -115.313889,\n",
       "  'modLandCover': 1,\n",
       "  'type': 'timeseries'},\n",
       " '05CA811': {'elevation': 1698.0,\n",
       "  'file': '05CA811_out.txt',\n",
       "  'latitude': 51.731056,\n",
       "  'longitude': -114.921639,\n",
       "  'modLandCover': 1,\n",
       "  'type': 'timeseries'},\n",
       " '05CA813': {'elevation': 1737.0,\n",
       "  'file': '05CA813_out.txt',\n",
       "  'latitude': 51.666667,\n",
       "  'longitude': -115.819444,\n",
       "  'modLandCover': 1,\n",
       "  'type': 'timeseries'},\n",
       " '2A03A': {'elevation': 1280.0,\n",
       "  'file': '2A03A_out.txt',\n",
       "  'latitude': 51.383333,\n",
       "  'longitude': -116.516667,\n",
       "  'modLandCover': 1,\n",
       "  'type': 'timeseries'},\n",
       " '2A07': {'elevation': 1650.0,\n",
       "  'file': '2A07_out.txt',\n",
       "  'latitude': 51.433333,\n",
       "  'longitude': -116.35,\n",
       "  'modLandCover': 1,\n",
       "  'type': 'timeseries'},\n",
       " '2A32P': {'elevation': 2122.0,\n",
       "  'file': '2A32P_out.txt',\n",
       "  'latitude': 51.69630278,\n",
       "  'longitude': -116.6294111,\n",
       "  'modLandCover': 1,\n",
       "  'type': 'timeseries'},\n",
       " '2C05': {'elevation': 1520.0,\n",
       "  'file': '2C05_out.txt',\n",
       "  'latitude': 51.2,\n",
       "  'longitude': -116.133333,\n",
       "  'modLandCover': 1,\n",
       "  'type': 'timeseries'},\n",
       " '2C14': {'elevation': 2090.0,\n",
       "  'file': '2C14_out.txt',\n",
       "  'latitude': 51.05,\n",
       "  'longitude': -116.133333,\n",
       "  'modLandCover': 1,\n",
       "  'type': 'timeseries'},\n",
       " '2C14P': {'elevation': 2090.0,\n",
       "  'file': '2C14P_out.txt',\n",
       "  'latitude': 51.05753333,\n",
       "  'longitude': -116.1374778,\n",
       "  'modLandCover': 1,\n",
       "  'type': 'timeseries'},\n",
       " '2C15': {'elevation': 2230.0,\n",
       "  'file': '2C15_out.txt',\n",
       "  'latitude': 50.9,\n",
       "  'longitude': -115.616667,\n",
       "  'modLandCover': 1,\n",
       "  'type': 'timeseries'},\n",
       " 'BNS': {'elevation': 2099.0,\n",
       "  'file': 'BNS_out.txt',\n",
       "  'latitude': 50.82092,\n",
       "  'longitude': -115.21391000000001,\n",
       "  'modLandCover': 1,\n",
       "  'type': 'timeseries'},\n",
       " 'BRP': {'elevation': 2260.0,\n",
       "  'file': 'BRP_out.txt',\n",
       "  'latitude': 50.76061,\n",
       "  'longitude': -115.36715,\n",
       "  'modLandCover': 1,\n",
       "  'type': 'timeseries'},\n",
       " 'BWH': {'elevation': 2421.0,\n",
       "  'file': 'BWH_out.txt',\n",
       "  'latitude': 51.63518,\n",
       "  'longitude': -116.49028,\n",
       "  'modLandCover': 1,\n",
       "  'type': 'timeseries'},\n",
       " 'CNT': {'elevation': 2470.0,\n",
       "  'file': 'CNT_out.txt',\n",
       "  'latitude': 50.95714,\n",
       "  'longitude': -115.19304,\n",
       "  'modLandCover': 1,\n",
       "  'type': 'timeseries'},\n",
       " 'CRG': {'elevation': 2211.0,\n",
       "  'file': 'CRG_out.txt',\n",
       "  'latitude': 50.8215,\n",
       "  'longitude': -115.2063,\n",
       "  'modLandCover': 1,\n",
       "  'type': 'timeseries'},\n",
       " 'CRN': {'elevation': 2205.0,\n",
       "  'file': 'CRN_out.txt',\n",
       "  'latitude': 50.8216,\n",
       "  'longitude': -115.2065,\n",
       "  'modLandCover': 1,\n",
       "  'type': 'timeseries'},\n",
       " 'FIRES-B3': {'elevation': 1486.0,\n",
       "  'file': 'FIRES-B3_out.txt',\n",
       "  'latitude': 51.6547,\n",
       "  'longitude': -115.362,\n",
       "  'modLandCover': 1,\n",
       "  'type': 'timeseries'},\n",
       " 'FIRES-B4': {'elevation': 1464.0,\n",
       "  'file': 'FIRES-B4_out.txt',\n",
       "  'latitude': 50.9278,\n",
       "  'longitude': -115.123,\n",
       "  'modLandCover': 1,\n",
       "  'type': 'timeseries'},\n",
       " 'FIRES-B5': {'elevation': 1622.0,\n",
       "  'file': 'FIRES-B5_out.txt',\n",
       "  'latitude': 50.7136,\n",
       "  'longitude': -115.119,\n",
       "  'modLandCover': 1,\n",
       "  'type': 'timeseries'},\n",
       " 'FIRES-B8': {'elevation': 1477.0,\n",
       "  'file': 'FIRES-B8_out.txt',\n",
       "  'latitude': 51.5742,\n",
       "  'longitude': -114.855,\n",
       "  'modLandCover': 1,\n",
       "  'type': 'timeseries'},\n",
       " 'FLG': {'elevation': 2565.0,\n",
       "  'file': 'FLG_out.txt',\n",
       "  'latitude': 50.830040000000004,\n",
       "  'longitude': -115.22851000000001,\n",
       "  'modLandCover': 1,\n",
       "  'type': 'timeseries'},\n",
       " 'FRG': {'elevation': 2327.0,\n",
       "  'file': 'FRG_out.txt',\n",
       "  'latitude': 50.836420000000004,\n",
       "  'longitude': -115.22048999999998,\n",
       "  'modLandCover': 1,\n",
       "  'type': 'timeseries'},\n",
       " 'FRS': {'elevation': 2330.0,\n",
       "  'file': 'FRS_out.txt',\n",
       "  'latitude': 50.838229999999996,\n",
       "  'longitude': -115.21578000000001,\n",
       "  'modLandCover': 1,\n",
       "  'type': 'timeseries'},\n",
       " 'FSR': {'elevation': 2325.0,\n",
       "  'file': 'FSR_out.txt',\n",
       "  'latitude': 50.95773,\n",
       "  'longitude': -115.20438999999999,\n",
       "  'modLandCover': 1,\n",
       "  'type': 'timeseries'},\n",
       " 'HLN': {'elevation': 2535.0,\n",
       "  'file': 'HLN_out.txt',\n",
       "  'latitude': 51.693027,\n",
       "  'longitude': -116.420957,\n",
       "  'modLandCover': 1,\n",
       "  'type': 'timeseries'},\n",
       " 'HMW': {'elevation': 1492.0,\n",
       "  'file': 'HMW_out.txt',\n",
       "  'latitude': 50.944109999999995,\n",
       "  'longitude': -115.13893999999999,\n",
       "  'modLandCover': 0,\n",
       "  'type': 'timeseries'},\n",
       " 'LLF': {'elevation': 1492.0,\n",
       "  'file': 'LLF_out.txt',\n",
       "  'latitude': 50.94656,\n",
       "  'longitude': -115.146401,\n",
       "  'modLandCover': 0,\n",
       "  'type': 'timeseries'},\n",
       " 'MSC-001': {'elevation': 1370.0,\n",
       "  'file': 'MSC-001_out.txt',\n",
       "  'latitude': 51.2,\n",
       "  'longitude': -115.55,\n",
       "  'modLandCover': 1,\n",
       "  'type': 'timeseries'},\n",
       " 'MSC-005': {'elevation': 1298.0,\n",
       "  'file': 'MSC-005_out.txt',\n",
       "  'latitude': 51.083333,\n",
       "  'longitude': -115.066667,\n",
       "  'modLandCover': 1,\n",
       "  'type': 'timeseries'},\n",
       " 'MSC-028': {'elevation': 1554.5,\n",
       "  'file': 'MSC-028_out.txt',\n",
       "  'latitude': 51.426,\n",
       "  'longitude': -116.181611,\n",
       "  'modLandCover': 1,\n",
       "  'type': 'timeseries'},\n",
       " 'PWL': {'elevation': 2100.0,\n",
       "  'file': 'PWL_out.txt',\n",
       "  'latitude': 50.82598,\n",
       "  'longitude': -115.1982,\n",
       "  'modLandCover': 1,\n",
       "  'type': 'timeseries'},\n",
       " 'PYT': {'elevation': 2237.0,\n",
       "  'file': 'PYT_out.txt',\n",
       "  'latitude': 51.6856,\n",
       "  'longitude': -116.5449,\n",
       "  'modLandCover': 1,\n",
       "  'type': 'timeseries'},\n",
       " 'SIB': {'elevation': 1490.0,\n",
       "  'file': 'SIB_out.txt',\n",
       "  'latitude': 51.05563,\n",
       "  'longitude': -114.86941999999999,\n",
       "  'modLandCover': 1,\n",
       "  'type': 'timeseries'},\n",
       " 'UPC': {'elevation': 1845.0,\n",
       "  'file': 'UPC_out.txt',\n",
       "  'latitude': 50.956540000000004,\n",
       "  'longitude': -115.17535,\n",
       "  'modLandCover': 0,\n",
       "  'type': 'timeseries'},\n",
       " 'UPF': {'elevation': 1848.0,\n",
       "  'file': 'UPF_out.txt',\n",
       "  'latitude': 50.95688,\n",
       "  'longitude': -115.176221,\n",
       "  'modLandCover': 0,\n",
       "  'type': 'timeseries'},\n",
       " 'VVW': {'elevation': 1956.0,\n",
       "  'file': 'VVW_out.txt',\n",
       "  'latitude': 50.97123,\n",
       "  'longitude': -115.17222,\n",
       "  'modLandCover': 1,\n",
       "  'type': 'timeseries'}}"
      ]
     },
     "execution_count": 35,
     "metadata": {},
     "output_type": "execute_result"
    }
   ],
   "source": [
    "meta"
   ]
  },
  {
   "cell_type": "code",
   "execution_count": 39,
   "metadata": {},
   "outputs": [],
   "source": [
    "# Write out json file with metadata for these points\n",
    "with open(Output_config_file, 'w') as outfile:\n",
    "    json.dump(meta, outfile,indent=4, sort_keys=True)"
   ]
  },
  {
   "cell_type": "code",
   "execution_count": 40,
   "metadata": {},
   "outputs": [
    {
     "data": {
      "text/plain": [
       "'C:\\\\Users\\\\new356\\\\Model_Output\\\\config\\\\CSAS_output.json'"
      ]
     },
     "execution_count": 40,
     "metadata": {},
     "output_type": "execute_result"
    }
   ],
   "source": [
    "Output_config_file"
   ]
  },
  {
   "cell_type": "code",
   "execution_count": null,
   "metadata": {
    "collapsed": true
   },
   "outputs": [],
   "source": []
  }
 ],
 "metadata": {
  "kernelspec": {
   "display_name": "Python 3",
   "language": "python",
   "name": "python3"
  },
  "language_info": {
   "codemirror_mode": {
    "name": "ipython",
    "version": 3
   },
   "file_extension": ".py",
   "mimetype": "text/x-python",
   "name": "python",
   "nbconvert_exporter": "python",
   "pygments_lexer": "ipython3",
   "version": "3.5.4"
  }
 },
 "nbformat": 4,
 "nbformat_minor": 1
}
