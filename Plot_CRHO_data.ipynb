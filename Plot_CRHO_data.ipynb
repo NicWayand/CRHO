{
 "cells": [
  {
   "cell_type": "code",
   "execution_count": 1,
   "metadata": {
    "collapsed": false
   },
   "outputs": [],
   "source": [
    "# Import modules\n",
    "# ipython magic to plot in line\n",
    "%matplotlib inline\n",
    "#import mpld3\n",
    "#mpld3.enable_notebook()\n",
    "import warnings\n",
    "warnings.filterwarnings('ignore')\n",
    "import matplotlib\n",
    "import numpy as np\n",
    "import pandas as pd\n",
    "import matplotlib.pyplot as plt \n",
    "#plt.style.use('ggplot')\n",
    "# better colors (http://stackoverflow.com/questions/8389636/creating-over-20-unique-legend-colors-using-matplotlib)\n",
    "plt.rcParams.update({'figure.max_open_warning': 0})\n",
    "import xarray as xr\n",
    "from astropy.io import ascii\n",
    "import pytz\n",
    "# OS interaction\n",
    "import sys\n",
    "import os"
   ]
  },
  {
   "cell_type": "code",
   "execution_count": 2,
   "metadata": {
    "collapsed": true
   },
   "outputs": [],
   "source": [
    "# Directories\n",
    "# Path to raw data\n",
    "file_in   = os.path.normpath(r'F:\\Work\\e\\Data\\Obs\\Canada_Project_Sites\\Nov_2014_snow_storm_data\\QC_netcdf\\CRHO.nc')"
   ]
  },
  {
   "cell_type": "code",
   "execution_count": 3,
   "metadata": {
    "collapsed": false
   },
   "outputs": [],
   "source": [
    "# Set font size\n",
    "font = {'weight' : 'bold',\n",
    "        'size'   : 20}\n",
    "matplotlib.rc('font', **font)"
   ]
  },
  {
   "cell_type": "code",
   "execution_count": 4,
   "metadata": {
    "collapsed": false
   },
   "outputs": [],
   "source": [
    "# Import stations of interest\n",
    "CRHO_data = xr.open_dataset(file_in,engine='netcdf4')"
   ]
  },
  {
   "cell_type": "code",
   "execution_count": 5,
   "metadata": {
    "collapsed": false
   },
   "outputs": [],
   "source": [
    "# Sort variables by alpha\n",
    "AllVars = sorted(CRHO_data.data_vars)"
   ]
  },
  {
   "cell_type": "code",
   "execution_count": 6,
   "metadata": {
    "collapsed": false
   },
   "outputs": [
    {
     "data": {
      "text/plain": [
       "[None, None, None, None]"
      ]
     },
     "execution_count": 6,
     "metadata": {},
     "output_type": "execute_result"
    }
   ],
   "source": [
    "# Remove metadata (and variables that are empty (i.e. diagnostic ones))\n",
    "[AllVars.remove(cV) for cV in ['Elevation','Lat','Lon','SnowDepthQCvalue']]"
   ]
  },
  {
   "cell_type": "code",
   "execution_count": null,
   "metadata": {
    "collapsed": false
   },
   "outputs": [
    {
     "data": {
      "text/plain": [
       "<xarray.Dataset>\n",
       "Dimensions:                           (station: 12, time: 131425)\n",
       "Coordinates:\n",
       "  * station                           (station) object 'BNS' 'BRP' 'BWH' ...\n",
       "  * time                              (time) datetime64[ns] 2012-09-30T18:00:00 ...\n",
       "Data variables:\n",
       "    SoilMoistureD                     (station, time) float64 nan nan nan ...\n",
       "    SoilMoistureB                     (station, time) float64 nan nan nan ...\n",
       "    SoilMoistureC                     (station, time) float64 nan nan nan ...\n",
       "    ScalarWindSpeedB                  (station, time) float64 nan nan nan ...\n",
       "    SnowLayerTemperatureA             (station, time) float64 nan nan nan ...\n",
       "    TotalPressureUnadjustedA          (station, time) float64 nan nan nan ...\n",
       "    IncrementalPrecipitationA         (station, time) float64 nan nan nan ...\n",
       "    DownwardSolarRadiation            (station, time) float64 nan nan nan ...\n",
       "    SoilMoistureA                     (station, time) float64 nan nan nan ...\n",
       "    DownwardTerrestrialRad            (station, time) float64 nan nan nan ...\n",
       "    SoilTemperatureB                  (station, time) float64 nan nan nan ...\n",
       "    ScalarWindSpeedA                  (station, time) float64 nan nan nan ...\n",
       "    SoilTemperatureA                  (station, time) float64 nan nan nan ...\n",
       "    SoilTemperatureC                  (station, time) float64 nan nan nan ...\n",
       "    AirtemperatureA                   (station, time) float64 nan nan nan ...\n",
       "    TotalPressureAdjustedtoSea-level  (station, time) float64 nan nan nan ...\n",
       "    SnowWaterEquivelentA              (station, time) float64 nan nan nan ...\n",
       "    AirMoistureContentA               (station, time) float64 nan nan nan ...\n",
       "    AirTemperatureC                   (station, time) float64 nan nan nan ...\n",
       "    SoilTemperatureD                  (station, time) float64 nan nan nan ...\n",
       "    SoilMoistureE                     (station, time) float64 nan nan nan ...\n",
       "    SnowDepthA                        (station, time) float64 nan nan nan ...\n",
       "    UpwardSolarRadiation              (station, time) float64 nan nan nan ...\n",
       "    UpwardTerrestrialRad              (station, time) float64 nan nan nan ...\n",
       "    WindDirectionatA                  (station, time) float64 nan nan nan ...\n",
       "    SoilHeatFluxA                     (station, time) float64 nan nan nan ...\n",
       "    SnowDepthQCvalue                  (station, time) float64 nan nan nan ...\n",
       "    SoilTemperatureE                  (station, time) float64 nan nan nan ...\n",
       "    IncrementalPrecipitationB         (station, time) float64 nan nan nan ...\n",
       "    Elevation                         (station) int64 2099 2100 2330 2205 ...\n",
       "    Lat                               (station) int64 99 99 99 99 99 99 99 ...\n",
       "    Lon                               (station) int64 99 99 99 99 99 99 99 ..."
      ]
     },
     "execution_count": 7,
     "metadata": {},
     "output_type": "execute_result"
    }
   ],
   "source": [
    "CRHO_data"
   ]
  },
  {
   "cell_type": "code",
   "execution_count": null,
   "metadata": {
    "collapsed": false,
    "scrolled": false
   },
   "outputs": [
    {
     "name": "stdout",
     "output_type": "stream",
     "text": [
      "AirMoistureContentA\n",
      "AirTemperatureC\n",
      "AirtemperatureA\n",
      "DownwardSolarRadiation\n",
      "DownwardTerrestrialRad\n",
      "IncrementalPrecipitationA\n",
      "IncrementalPrecipitationB\n",
      "ScalarWindSpeedA\n",
      "ScalarWindSpeedB\n",
      "SnowDepthA\n",
      "SnowLayerTemperatureA\n",
      "SnowWaterEquivelentA\n",
      "SoilHeatFluxA\n",
      "SoilMoistureA\n",
      "SoilMoistureB\n",
      "SoilMoistureC\n",
      "SoilMoistureD\n",
      "SoilMoistureE\n",
      "SoilTemperatureA\n",
      "SoilTemperatureB\n",
      "SoilTemperatureC\n",
      "SoilTemperatureD\n",
      "SoilTemperatureE\n",
      "TotalPressureAdjustedtoSea-level\n",
      "TotalPressureUnadjustedA\n",
      "UpwardSolarRadiation\n",
      "UpwardTerrestrialRad\n",
      "WindDirectionatA\n"
     ]
    }
   ],
   "source": [
    "# Plot each variable (Takes a while, be patient)\n",
    "#NUM_COLORS = 15\n",
    "#cm = plt.get_cmap('Set1')\n",
    "for cvar in AllVars:\n",
    "    print(cvar)\n",
    "    pd_temp = CRHO_data[cvar].to_dataframe()\n",
    "    X = pd_temp.unstack().T\n",
    "    X.index = X.index.droplevel()\n",
    "    X.plot()\n",
    "    #ax = plt.gca()\n",
    "    #ax.set_color_cycle([cm(1.*i/NUM_COLORS) for i in range(NUM_COLORS)])\n",
    "    plt.title(cvar)\n",
    "    fig = plt.gcf()\n",
    "    fig.set_size_inches(18.5, 10.5,forward=True)\n",
    "    plt.ylabel(CRHO_data[cvar].attrs['unit'])\n",
    "    plt.axis(\"tight\");"
   ]
  },
  {
   "cell_type": "code",
   "execution_count": null,
   "metadata": {
    "collapsed": true
   },
   "outputs": [],
   "source": []
  }
 ],
 "metadata": {
  "kernelspec": {
   "display_name": "Python 3",
   "language": "python",
   "name": "python3"
  },
  "language_info": {
   "codemirror_mode": {
    "name": "ipython",
    "version": 3
   },
   "file_extension": ".py",
   "mimetype": "text/x-python",
   "name": "python",
   "nbconvert_exporter": "python",
   "pygments_lexer": "ipython3",
   "version": "3.5.1"
  }
 },
 "nbformat": 4,
 "nbformat_minor": 0
}
