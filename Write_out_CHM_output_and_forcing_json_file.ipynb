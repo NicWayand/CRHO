{
 "cells": [
  {
   "cell_type": "code",
   "execution_count": 1,
   "metadata": {
    "collapsed": true
   },
   "outputs": [],
   "source": [
    "# Write out CHM json output and forcing config files"
   ]
  },
  {
   "cell_type": "code",
   "execution_count": 2,
   "metadata": {
    "collapsed": true
   },
   "outputs": [],
   "source": [
    "import numpy as np\n",
    "import pandas as pd\n",
    "import os\n",
    "import json"
   ]
  },
  {
   "cell_type": "markdown",
   "metadata": {},
   "source": [
    "## OUTPUT"
   ]
  },
  {
   "cell_type": "code",
   "execution_count": 3,
   "metadata": {
    "collapsed": false
   },
   "outputs": [],
   "source": [
    "main_dir   = os.path.normpath(r'C:\\Users\\new356\\Google Drive\\Nov2014 Data QC Completed Data')\n",
    "meta_data_file  = os.path.join(main_dir,'CRHO_Station_lat_long_elevation.txt')\n",
    "# Output_config_file = os.path.join(r'C:\\Users\\new356\\Model_Output\\config','CRHO_output_sta_ALL.json')\n",
    "Output_config_file = os.path.join(r'C:\\Users\\new356\\Model_Output\\config','Fortress_output.json')"
   ]
  },
  {
   "cell_type": "code",
   "execution_count": 4,
   "metadata": {
    "collapsed": false
   },
   "outputs": [],
   "source": [
    "# Read in metadata (all stations)\n",
    "metadata = pd.read_csv(meta_data_file,index_col='station')"
   ]
  },
  {
   "cell_type": "code",
   "execution_count": 5,
   "metadata": {
    "collapsed": false
   },
   "outputs": [],
   "source": [
    "## User select stations\n",
    "sel_stations = ['BNS','CRG','CRN','FLG','FRG','FRS','PWL']\n",
    "## All stations\n",
    "#sel_stations = metadata.index"
   ]
  },
  {
   "cell_type": "code",
   "execution_count": 6,
   "metadata": {
    "collapsed": true
   },
   "outputs": [],
   "source": [
    "# \"CanadianRidge\":\n",
    "#     {\n",
    "#     \"file\":\"CRG_out.txt\",\n",
    "#    \"longitude\":  -115.206041,\n",
    "#    \"latitude\": 50.821573,\n",
    "#    \"type\": \"timeseries\"\n",
    "#     },"
   ]
  },
  {
   "cell_type": "code",
   "execution_count": 7,
   "metadata": {
    "collapsed": false
   },
   "outputs": [],
   "source": [
    "## Hard coded heights for wind speeds\n",
    "WS_A_height = {'BNS':'5.74', 'PWL':'5.25', 'FRS':'5.2', 'CRN':'5.58', 'BRP':'10.08', 'FLG':'3.15', 'PYT':'5.23',\n",
    "               'BWH':'3.3', 'CRG':'2.85', 'FRG':'5.73',\n",
    "               'SIB':'3.05', 'HLN':'6.0', 'CNT':'2.41', 'FSR':'2.63', 'VVW':'4.11', 'UPC':'2.85', 'UPF':'2.77', 'LLF':'2.45', 'HMW':'7.0'}"
   ]
  },
  {
   "cell_type": "code",
   "execution_count": 8,
   "metadata": {
    "collapsed": false
   },
   "outputs": [],
   "source": [
    "# Loop through stations and make json format\n",
    "meta = {}\n",
    "for csta in sel_stations:\n",
    "    meta[csta] = {'file':csta+'_out.txt',\n",
    "    \"longitude\": metadata.loc[csta,' long'],\n",
    "    \"latitude\":  metadata.loc[csta,' lat'],\n",
    "    \"elevation\": metadata.loc[csta,' elevation(m)'],\n",
    "    \"type\": \"timeseries\"\n",
    "    }\n"
   ]
  },
  {
   "cell_type": "code",
   "execution_count": 9,
   "metadata": {
    "collapsed": false
   },
   "outputs": [],
   "source": [
    "# Write out json file with metadata for these points\n",
    "with open(Output_config_file, 'w') as outfile:\n",
    "    json.dump(meta, outfile,indent=4, sort_keys=True)\n"
   ]
  },
  {
   "cell_type": "markdown",
   "metadata": {
    "collapsed": true
   },
   "source": [
    "## FORCING"
   ]
  },
  {
   "cell_type": "code",
   "execution_count": 10,
   "metadata": {
    "collapsed": false
   },
   "outputs": [],
   "source": [
    "# forcing_config_file = os.path.join(r'C:\\Users\\new356\\Model_Output\\config','CRHO_forcing.json')\n",
    "forcing_config_file = os.path.join(r'C:\\Users\\new356\\Model_Output\\config','Fortress_forcing.json')\n",
    "chinook_dir = '/home/nwayand/siteData/Fortress/15min/'"
   ]
  },
  {
   "cell_type": "code",
   "execution_count": null,
   "metadata": {
    "collapsed": true
   },
   "outputs": [],
   "source": []
  },
  {
   "cell_type": "code",
   "execution_count": 11,
   "metadata": {
    "collapsed": false
   },
   "outputs": [],
   "source": [
    "# Loop through stations and make json format\n",
    "meta_forc = {}\n",
    "for csta in sel_stations:\n",
    "    meta_forc[csta] = {'file':chinook_dir+csta+'.txt',\n",
    "    \"longitude\": metadata.loc[csta,' long'],\n",
    "    \"latitude\":  metadata.loc[csta,' lat'],\n",
    "    \"elevation\": metadata.loc[csta,' elevation(m)'],\n",
    "    \"filter\": {\n",
    "    \"scale_wind_speed\": {\n",
    "    \"variable\": \"u\",\n",
    "    \"Z_F\": WS_A_height[csta]\n",
    "    }}}"
   ]
  },
  {
   "cell_type": "code",
   "execution_count": 12,
   "metadata": {
    "collapsed": false
   },
   "outputs": [],
   "source": [
    "# Write out json file with metadata for these points\n",
    "with open(forcing_config_file, 'w') as outfile:\n",
    "    json.dump(meta_forc, outfile,indent=4, sort_keys=True)"
   ]
  },
  {
   "cell_type": "code",
   "execution_count": null,
   "metadata": {
    "collapsed": true
   },
   "outputs": [],
   "source": []
  }
 ],
 "metadata": {
  "kernelspec": {
   "display_name": "Python 3",
   "language": "python",
   "name": "python3"
  },
  "language_info": {
   "codemirror_mode": {
    "name": "ipython",
    "version": 3
   },
   "file_extension": ".py",
   "mimetype": "text/x-python",
   "name": "python",
   "nbconvert_exporter": "python",
   "pygments_lexer": "ipython3",
   "version": "3.5.3"
  }
 },
 "nbformat": 4,
 "nbformat_minor": 0
}
